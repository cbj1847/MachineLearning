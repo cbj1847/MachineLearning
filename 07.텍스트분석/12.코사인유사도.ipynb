{
 "cells": [
  {
   "attachments": {},
   "cell_type": "markdown",
   "metadata": {},
   "source": [
    "### 코사인 유사도 (Cosine similarity)\n",
    "- 문장의 유사도를 측정할 때 사용"
   ]
  },
  {
   "cell_type": "code",
   "execution_count": 1,
   "metadata": {},
   "outputs": [],
   "source": [
    "import numpy as np"
   ]
  },
  {
   "cell_type": "code",
   "execution_count": 3,
   "metadata": {},
   "outputs": [
    {
     "data": {
      "text/plain": [
       "(1.414, 2.236, 1.0)"
      ]
     },
     "execution_count": 3,
     "metadata": {},
     "output_type": "execute_result"
    }
   ],
   "source": [
    "v1, v2, v3 = np.array([1,1,0]), np.array([2,1,0]), np.array([0,0,1])\n",
    "v1_norm = np.sqrt(np.sum(np.square(v1))).round(3)\n",
    "v2_norm = np.sqrt(np.sum(np.square(v2))).round(3)\n",
    "v3_norm = np.sqrt(np.sum(np.square(v3)))\n",
    "v1_norm, v2_norm, v3_norm"
   ]
  },
  {
   "cell_type": "code",
   "execution_count": 5,
   "metadata": {},
   "outputs": [
    {
     "data": {
      "text/plain": [
       "(0.9488554273265302, 0.0, 0.0)"
      ]
     },
     "execution_count": 5,
     "metadata": {},
     "output_type": "execute_result"
    }
   ],
   "source": [
    "# 벡터간 유사도\n",
    "sim12 = np.dot(v1, v2) / (v1_norm * v2_norm)\n",
    "sim13 = np.dot(v1, v3) / (v1_norm * v3_norm)\n",
    "sim23 = np.dot(v2, v3) / (v2_norm * v3_norm)\n",
    "sim12, sim13, sim23"
   ]
  },
  {
   "cell_type": "code",
   "execution_count": 9,
   "metadata": {},
   "outputs": [],
   "source": [
    "def cos_similarity(a, b):\n",
    "    a_norm = np.sqrt(np.sum(np.square(a)))\n",
    "    b_norm = np.sqrt(np.sum(np.square(b)))\n",
    "    sim_ab = np.dot(a, b) / (a_norm * b_norm)\n",
    "    return sim_ab.round(3)"
   ]
  },
  {
   "cell_type": "code",
   "execution_count": 22,
   "metadata": {},
   "outputs": [],
   "source": [
    "doc_list = [\n",
    "    'If you take the blue pill, the story end',\n",
    "    'If you take the red pill, you stain Wonderland',\n",
    "    'If you take the red pill, I show you how deep the rabbit hole goes'\n",
    "]"
   ]
  },
  {
   "cell_type": "code",
   "execution_count": 24,
   "metadata": {},
   "outputs": [],
   "source": [
    "from sklearn.feature_extraction.text import CountVectorizer\n",
    "cvect = CountVectorizer()\n",
    "doc_cv = cvect.fit_transform(doc_list)\n",
    "a, b, c = doc_cv.toarray()"
   ]
  },
  {
   "cell_type": "code",
   "execution_count": 25,
   "metadata": {},
   "outputs": [
    {
     "name": "stdout",
     "output_type": "stream",
     "text": [
      "문장1-2 간 유사도: 0.636\n",
      "문장1-3 간 유사도: 0.639\n",
      "문장2-3 간 유사도: 0.711\n"
     ]
    }
   ],
   "source": [
    "print(f'문장1-2 간 유사도: {cos_similarity(a, b)}')\n",
    "print(f'문장1-3 간 유사도: {cos_similarity(a, c)}')\n",
    "print(f'문장2-3 간 유사도: {cos_similarity(c, b)}')"
   ]
  },
  {
   "cell_type": "code",
   "execution_count": 26,
   "metadata": {},
   "outputs": [
    {
     "name": "stdout",
     "output_type": "stream",
     "text": [
      "문장1-2 간 유사도: 0.438\n",
      "문장1-3 간 유사도: 0.404\n",
      "문장2-3 간 유사도: 0.497\n"
     ]
    }
   ],
   "source": [
    "from sklearn.feature_extraction.text import TfidfVectorizer\n",
    "tvect = TfidfVectorizer()\n",
    "doc_tv = tvect.fit_transform(doc_list)\n",
    "a1, b1, c1 = doc_tv.toarray()\n",
    "print(f'문장1-2 간 유사도: {cos_similarity(a1, b1)}')\n",
    "print(f'문장1-3 간 유사도: {cos_similarity(a1, c1)}')\n",
    "print(f'문장2-3 간 유사도: {cos_similarity(c1, b1)}')"
   ]
  },
  {
   "attachments": {},
   "cell_type": "markdown",
   "metadata": {},
   "source": [
    "- Scikit-Learn 코사인 유사도"
   ]
  },
  {
   "cell_type": "code",
   "execution_count": 28,
   "metadata": {},
   "outputs": [
    {
     "data": {
      "text/plain": [
       "array([[1.        , 0.43792392],\n",
       "       [0.43792392, 1.        ]])"
      ]
     },
     "execution_count": 28,
     "metadata": {},
     "output_type": "execute_result"
    }
   ],
   "source": [
    "from sklearn.metrics.pairwise import cosine_similarity\n",
    "cosine_similarity([a1, b1])"
   ]
  },
  {
   "cell_type": "code",
   "execution_count": 29,
   "metadata": {},
   "outputs": [
    {
     "data": {
      "text/plain": [
       "array([[1.        , 0.43792392, 0.40425045],\n",
       "       [0.43792392, 1.        , 0.49716879],\n",
       "       [0.40425045, 0.49716879, 1.        ]])"
      ]
     },
     "execution_count": 29,
     "metadata": {},
     "output_type": "execute_result"
    }
   ],
   "source": [
    "cosine_similarity(doc_tv)"
   ]
  }
 ],
 "metadata": {
  "kernelspec": {
   "display_name": "base",
   "language": "python",
   "name": "python3"
  },
  "language_info": {
   "codemirror_mode": {
    "name": "ipython",
    "version": 3
   },
   "file_extension": ".py",
   "mimetype": "text/x-python",
   "name": "python",
   "nbconvert_exporter": "python",
   "pygments_lexer": "ipython3",
   "version": "3.10.10"
  },
  "orig_nbformat": 4
 },
 "nbformat": 4,
 "nbformat_minor": 2
}
