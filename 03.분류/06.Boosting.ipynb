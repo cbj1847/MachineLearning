{
 "cells": [
  {
   "attachments": {},
   "cell_type": "markdown",
   "metadata": {},
   "source": [
    "### 부스팅(Boosting)"
   ]
  },
  {
   "cell_type": "code",
   "execution_count": 54,
   "metadata": {},
   "outputs": [],
   "source": [
    "from sklearn.datasets import load_wine\n",
    "wine = load_wine()"
   ]
  },
  {
   "cell_type": "code",
   "execution_count": 55,
   "metadata": {},
   "outputs": [],
   "source": [
    "from sklearn.preprocessing import StandardScaler\n",
    "wine_std = StandardScaler().fit_transform(wine.data)"
   ]
  },
  {
   "cell_type": "code",
   "execution_count": 56,
   "metadata": {},
   "outputs": [],
   "source": [
    "from sklearn.model_selection import train_test_split\n",
    "X_train, X_test, y_train, y_test = train_test_split(\n",
    "    wine_std, wine.target, stratify=wine.target, random_state=2023, test_size=0.2\n",
    ")"
   ]
  },
  {
   "attachments": {},
   "cell_type": "markdown",
   "metadata": {},
   "source": [
    "1. XGBoost(eXtra Gradient Boost)"
   ]
  },
  {
   "attachments": {},
   "cell_type": "markdown",
   "metadata": {},
   "source": [
    "- 설치: pip install py-xgboost"
   ]
  },
  {
   "cell_type": "code",
   "execution_count": 57,
   "metadata": {},
   "outputs": [
    {
     "data": {
      "text/plain": [
       "'1.7.5'"
      ]
     },
     "execution_count": 57,
     "metadata": {},
     "output_type": "execute_result"
    }
   ],
   "source": [
    "import xgboost\n",
    "xgboost.__version__"
   ]
  },
  {
   "cell_type": "code",
   "execution_count": 58,
   "metadata": {},
   "outputs": [
    {
     "data": {
      "text/plain": [
       "{'objective': 'binary:logistic',\n",
       " 'use_label_encoder': None,\n",
       " 'base_score': None,\n",
       " 'booster': None,\n",
       " 'callbacks': None,\n",
       " 'colsample_bylevel': None,\n",
       " 'colsample_bynode': None,\n",
       " 'colsample_bytree': None,\n",
       " 'early_stopping_rounds': None,\n",
       " 'enable_categorical': False,\n",
       " 'eval_metric': None,\n",
       " 'feature_types': None,\n",
       " 'gamma': None,\n",
       " 'gpu_id': None,\n",
       " 'grow_policy': None,\n",
       " 'importance_type': None,\n",
       " 'interaction_constraints': None,\n",
       " 'learning_rate': None,\n",
       " 'max_bin': None,\n",
       " 'max_cat_threshold': None,\n",
       " 'max_cat_to_onehot': None,\n",
       " 'max_delta_step': None,\n",
       " 'max_depth': None,\n",
       " 'max_leaves': None,\n",
       " 'min_child_weight': None,\n",
       " 'missing': nan,\n",
       " 'monotone_constraints': None,\n",
       " 'n_estimators': 100,\n",
       " 'n_jobs': None,\n",
       " 'num_parallel_tree': None,\n",
       " 'predictor': None,\n",
       " 'random_state': None,\n",
       " 'reg_alpha': None,\n",
       " 'reg_lambda': None,\n",
       " 'sampling_method': None,\n",
       " 'scale_pos_weight': None,\n",
       " 'subsample': None,\n",
       " 'tree_method': None,\n",
       " 'validate_parameters': None,\n",
       " 'verbosity': None}"
      ]
     },
     "execution_count": 58,
     "metadata": {},
     "output_type": "execute_result"
    }
   ],
   "source": [
    "from xgboost import XGBClassifier\n",
    "xgb = XGBClassifier()\n",
    "xgb.get_params()"
   ]
  },
  {
   "cell_type": "code",
   "execution_count": 59,
   "metadata": {},
   "outputs": [
    {
     "data": {
      "text/plain": [
       "1.0"
      ]
     },
     "execution_count": 59,
     "metadata": {},
     "output_type": "execute_result"
    }
   ],
   "source": [
    "xgb.fit(X_train, y_train)\n",
    "pred_xgb = xgb.predict(X_test)\n",
    "xgb.score(X_test, y_test)"
   ]
  },
  {
   "attachments": {},
   "cell_type": "markdown",
   "metadata": {},
   "source": [
    "- 시각화"
   ]
  },
  {
   "cell_type": "code",
   "execution_count": 60,
   "metadata": {},
   "outputs": [],
   "source": [
    "from xgboost import plot_importance as xgb_pi\n",
    "import matplotlib.pyplot as plt"
   ]
  },
  {
   "cell_type": "code",
   "execution_count": 61,
   "metadata": {},
   "outputs": [
    {
     "data": {
      "image/png": "[encoded data removed]",
      "text/plain": [
       "<Figure size 640x480 with 1 Axes>"
      ]
     },
     "metadata": {},
     "output_type": "display_data"
    }
   ],
   "source": [
    "xgb_pi(xgb)\n",
    "plt.show()"
   ]
  },
  {
   "attachments": {},
   "cell_type": "markdown",
   "metadata": {},
   "source": [
    "- GridSearchCV"
   ]
  },
  {
   "cell_type": "code",
   "execution_count": 62,
   "metadata": {},
   "outputs": [],
   "source": [
    "params = {\n",
    "    'max_depth': [3, 4, 5, 6]\n",
    "}"
   ]
  },
  {
   "cell_type": "code",
   "execution_count": 63,
   "metadata": {},
   "outputs": [
    {
     "data": {
      "text/plain": [
       "{'max_depth': 3}"
      ]
     },
     "execution_count": 63,
     "metadata": {},
     "output_type": "execute_result"
    }
   ],
   "source": [
    "from sklearn.model_selection import GridSearchCV\n",
    "grid_xgb = GridSearchCV(\n",
    "    xgb, params, scoring='accuracy', cv=5\n",
    ")\n",
    "grid_xgb.fit(X_train, y_train)\n",
    "grid_xgb.best_params_"
   ]
  },
  {
   "cell_type": "code",
   "execution_count": 64,
   "metadata": {},
   "outputs": [
    {
     "data": {
      "text/plain": [
       "0.9722222222222222"
      ]
     },
     "execution_count": 64,
     "metadata": {},
     "output_type": "execute_result"
    }
   ],
   "source": [
    "grid_xgb.best_estimator_.score(X_test, y_test)"
   ]
  },
  {
   "cell_type": "code",
   "execution_count": 65,
   "metadata": {},
   "outputs": [
    {
     "data": {
      "text/plain": [
       "'3.3.5'"
      ]
     },
     "execution_count": 65,
     "metadata": {},
     "output_type": "execute_result"
    }
   ],
   "source": [
    "import lightgbm\n",
    "lightgbm.__version__"
   ]
  },
  {
   "cell_type": "code",
   "execution_count": 66,
   "metadata": {},
   "outputs": [
    {
     "data": {
      "text/plain": [
       "{'boosting_type': 'gbdt',\n",
       " 'class_weight': None,\n",
       " 'colsample_bytree': 1.0,\n",
       " 'importance_type': 'split',\n",
       " 'learning_rate': 0.1,\n",
       " 'max_depth': -1,\n",
       " 'min_child_samples': 20,\n",
       " 'min_child_weight': 0.001,\n",
       " 'min_split_gain': 0.0,\n",
       " 'n_estimators': 100,\n",
       " 'n_jobs': -1,\n",
       " 'num_leaves': 31,\n",
       " 'objective': None,\n",
       " 'random_state': None,\n",
       " 'reg_alpha': 0.0,\n",
       " 'reg_lambda': 0.0,\n",
       " 'silent': 'warn',\n",
       " 'subsample': 1.0,\n",
       " 'subsample_for_bin': 200000,\n",
       " 'subsample_freq': 0}"
      ]
     },
     "execution_count": 66,
     "metadata": {},
     "output_type": "execute_result"
    }
   ],
   "source": [
    "from lightgbm import LGBMClassifier\n",
    "lgb = LGBMClassifier()\n",
    "lgb.get_params()"
   ]
  },
  {
   "cell_type": "code",
   "execution_count": 67,
   "metadata": {},
   "outputs": [
    {
     "name": "stdout",
     "output_type": "stream",
     "text": [
      "[1]\tvalid_0's multi_logloss: 0.941996\n",
      "[2]\tvalid_0's multi_logloss: 0.832568\n",
      "[3]\tvalid_0's multi_logloss: 0.747743\n",
      "[4]\tvalid_0's multi_logloss: 0.670139\n",
      "[5]\tvalid_0's multi_logloss: 0.611701\n",
      "[6]\tvalid_0's multi_logloss: 0.557255\n",
      "[7]\tvalid_0's multi_logloss: 0.5066\n",
      "[8]\tvalid_0's multi_logloss: 0.467544\n",
      "[9]\tvalid_0's multi_logloss: 0.42232\n",
      "[10]\tvalid_0's multi_logloss: 0.391928\n",
      "[11]\tvalid_0's multi_logloss: 0.354272\n",
      "[12]\tvalid_0's multi_logloss: 0.323114\n",
      "[13]\tvalid_0's multi_logloss: 0.294561\n",
      "[14]\tvalid_0's multi_logloss: 0.27047\n",
      "[15]\tvalid_0's multi_logloss: 0.248188\n",
      "[16]\tvalid_0's multi_logloss: 0.226466\n",
      "[17]\tvalid_0's multi_logloss: 0.20706\n",
      "[18]\tvalid_0's multi_logloss: 0.190334\n",
      "[19]\tvalid_0's multi_logloss: 0.177716\n",
      "[20]\tvalid_0's multi_logloss: 0.162546\n",
      "[21]\tvalid_0's multi_logloss: 0.149056\n",
      "[22]\tvalid_0's multi_logloss: 0.140279\n",
      "[23]\tvalid_0's multi_logloss: 0.128097\n",
      "[24]\tvalid_0's multi_logloss: 0.118336\n",
      "[25]\tvalid_0's multi_logloss: 0.111064\n",
      "[26]\tvalid_0's multi_logloss: 0.102929\n",
      "[27]\tvalid_0's multi_logloss: 0.0956672\n",
      "[28]\tvalid_0's multi_logloss: 0.0899258\n",
      "[29]\tvalid_0's multi_logloss: 0.0845874\n",
      "[30]\tvalid_0's multi_logloss: 0.0814826\n",
      "[31]\tvalid_0's multi_logloss: 0.0748525\n",
      "[32]\tvalid_0's multi_logloss: 0.0698538\n",
      "[33]\tvalid_0's multi_logloss: 0.0634432\n",
      "[34]\tvalid_0's multi_logloss: 0.0597643\n",
      "[35]\tvalid_0's multi_logloss: 0.0573022\n",
      "[36]\tvalid_0's multi_logloss: 0.0538179\n",
      "[37]\tvalid_0's multi_logloss: 0.0503975\n",
      "[38]\tvalid_0's multi_logloss: 0.0468743\n",
      "[39]\tvalid_0's multi_logloss: 0.0437075\n",
      "[40]\tvalid_0's multi_logloss: 0.0403751\n",
      "[41]\tvalid_0's multi_logloss: 0.0392772\n",
      "[42]\tvalid_0's multi_logloss: 0.0368259\n",
      "[43]\tvalid_0's multi_logloss: 0.0352631\n",
      "[44]\tvalid_0's multi_logloss: 0.0326785\n",
      "[45]\tvalid_0's multi_logloss: 0.0310203\n",
      "[46]\tvalid_0's multi_logloss: 0.0280426\n",
      "[47]\tvalid_0's multi_logloss: 0.0268724\n",
      "[48]\tvalid_0's multi_logloss: 0.0247712\n",
      "[49]\tvalid_0's multi_logloss: 0.024035\n",
      "[50]\tvalid_0's multi_logloss: 0.0231938\n",
      "[51]\tvalid_0's multi_logloss: 0.0218336\n",
      "[52]\tvalid_0's multi_logloss: 0.0206123\n",
      "[53]\tvalid_0's multi_logloss: 0.0191042\n",
      "[54]\tvalid_0's multi_logloss: 0.0176425\n",
      "[55]\tvalid_0's multi_logloss: 0.0174316\n",
      "[56]\tvalid_0's multi_logloss: 0.0160898\n",
      "[57]\tvalid_0's multi_logloss: 0.0167242\n",
      "[58]\tvalid_0's multi_logloss: 0.0160088\n",
      "[59]\tvalid_0's multi_logloss: 0.0147466\n",
      "[60]\tvalid_0's multi_logloss: 0.0145339\n",
      "[61]\tvalid_0's multi_logloss: 0.0138843\n",
      "[62]\tvalid_0's multi_logloss: 0.0138912\n",
      "[63]\tvalid_0's multi_logloss: 0.012952\n",
      "[64]\tvalid_0's multi_logloss: 0.0127069\n",
      "[65]\tvalid_0's multi_logloss: 0.0120973\n",
      "[66]\tvalid_0's multi_logloss: 0.01123\n",
      "[67]\tvalid_0's multi_logloss: 0.0112055\n",
      "[68]\tvalid_0's multi_logloss: 0.0109263\n",
      "[69]\tvalid_0's multi_logloss: 0.011354\n",
      "[70]\tvalid_0's multi_logloss: 0.0105797\n",
      "[71]\tvalid_0's multi_logloss: 0.0101472\n",
      "[72]\tvalid_0's multi_logloss: 0.0102768\n",
      "[73]\tvalid_0's multi_logloss: 0.0104056\n",
      "[74]\tvalid_0's multi_logloss: 0.00956546\n",
      "[75]\tvalid_0's multi_logloss: 0.00940076\n",
      "[76]\tvalid_0's multi_logloss: 0.00949343\n",
      "[77]\tvalid_0's multi_logloss: 0.00866207\n",
      "[78]\tvalid_0's multi_logloss: 0.00813147\n",
      "[79]\tvalid_0's multi_logloss: 0.00838548\n",
      "[80]\tvalid_0's multi_logloss: 0.00837767\n",
      "[81]\tvalid_0's multi_logloss: 0.00906861\n",
      "[82]\tvalid_0's multi_logloss: 0.00811408\n",
      "[83]\tvalid_0's multi_logloss: 0.00776108\n",
      "[84]\tvalid_0's multi_logloss: 0.00790332\n",
      "[85]\tvalid_0's multi_logloss: 0.007163\n",
      "[86]\tvalid_0's multi_logloss: 0.00739007\n",
      "[87]\tvalid_0's multi_logloss: 0.00722371\n",
      "[88]\tvalid_0's multi_logloss: 0.00646079\n",
      "[89]\tvalid_0's multi_logloss: 0.00605822\n",
      "[90]\tvalid_0's multi_logloss: 0.0056507\n",
      "[91]\tvalid_0's multi_logloss: 0.00541379\n",
      "[92]\tvalid_0's multi_logloss: 0.00488129\n",
      "[93]\tvalid_0's multi_logloss: 0.00504632\n",
      "[94]\tvalid_0's multi_logloss: 0.00488781\n",
      "[95]\tvalid_0's multi_logloss: 0.00524217\n",
      "[96]\tvalid_0's multi_logloss: 0.00479259\n",
      "[97]\tvalid_0's multi_logloss: 0.00447434\n",
      "[98]\tvalid_0's multi_logloss: 0.00438049\n",
      "[99]\tvalid_0's multi_logloss: 0.00434947\n",
      "[100]\tvalid_0's multi_logloss: 0.0041359\n"
     ]
    },
    {
     "name": "stderr",
     "output_type": "stream",
     "text": [
      "c:\\Users\\YONSAI\\anaconda3\\lib\\site-packages\\lightgbm\\sklearn.py:736: UserWarning: 'verbose' argument is deprecated and will be removed in a future release of LightGBM. Pass 'log_evaluation()' callback via 'callbacks' argument instead.\n",
      "  _log_warning(\"'verbose' argument is deprecated and will be removed in a future release of LightGBM. \"\n"
     ]
    },
    {
     "data": {
      "text/html": [
       "<style>#sk-container-id-3 {color: black;background-color: white;}#sk-container-id-3 pre{padding: 0;}#sk-container-id-3 div.sk-toggleable {background-color: white;}#sk-container-id-3 label.sk-toggleable__label {cursor: pointer;display: block;width: 100%;margin-bottom: 0;padding: 0.3em;box-sizing: border-box;text-align: center;}#sk-container-id-3 label.sk-toggleable__label-arrow:before {content: \"▸\";float: left;margin-right: 0.25em;color: #696969;}#sk-container-id-3 label.sk-toggleable__label-arrow:hover:before {color: black;}#sk-container-id-3 div.sk-estimator:hover label.sk-toggleable__label-arrow:before {color: black;}#sk-container-id-3 div.sk-toggleable__content {max-height: 0;max-width: 0;overflow: hidden;text-align: left;background-color: #f0f8ff;}#sk-container-id-3 div.sk-toggleable__content pre {margin: 0.2em;color: black;border-radius: 0.25em;background-color: #f0f8ff;}#sk-container-id-3 input.sk-toggleable__control:checked~div.sk-toggleable__content {max-height: 200px;max-width: 100%;overflow: auto;}#sk-container-id-3 input.sk-toggleable__control:checked~label.sk-toggleable__label-arrow:before {content: \"▾\";}#sk-container-id-3 div.sk-estimator input.sk-toggleable__control:checked~label.sk-toggleable__label {background-color: #d4ebff;}#sk-container-id-3 div.sk-label input.sk-toggleable__control:checked~label.sk-toggleable__label {background-color: #d4ebff;}#sk-container-id-3 input.sk-hidden--visually {border: 0;clip: rect(1px 1px 1px 1px);clip: rect(1px, 1px, 1px, 1px);height: 1px;margin: -1px;overflow: hidden;padding: 0;position: absolute;width: 1px;}#sk-container-id-3 div.sk-estimator {font-family: monospace;background-color: #f0f8ff;border: 1px dotted black;border-radius: 0.25em;box-sizing: border-box;margin-bottom: 0.5em;}#sk-container-id-3 div.sk-estimator:hover {background-color: #d4ebff;}#sk-container-id-3 div.sk-parallel-item::after {content: \"\";width: 100%;border-bottom: 1px solid gray;flex-grow: 1;}#sk-container-id-3 div.sk-label:hover label.sk-toggleable__label {background-color: #d4ebff;}#sk-container-id-3 div.sk-serial::before {content: \"\";position: absolute;border-left: 1px solid gray;box-sizing: border-box;top: 0;bottom: 0;left: 50%;z-index: 0;}#sk-container-id-3 div.sk-serial {display: flex;flex-direction: column;align-items: center;background-color: white;padding-right: 0.2em;padding-left: 0.2em;position: relative;}#sk-container-id-3 div.sk-item {position: relative;z-index: 1;}#sk-container-id-3 div.sk-parallel {display: flex;align-items: stretch;justify-content: center;background-color: white;position: relative;}#sk-container-id-3 div.sk-item::before, #sk-container-id-3 div.sk-parallel-item::before {content: \"\";position: absolute;border-left: 1px solid gray;box-sizing: border-box;top: 0;bottom: 0;left: 50%;z-index: -1;}#sk-container-id-3 div.sk-parallel-item {display: flex;flex-direction: column;z-index: 1;position: relative;background-color: white;}#sk-container-id-3 div.sk-parallel-item:first-child::after {align-self: flex-end;width: 50%;}#sk-container-id-3 div.sk-parallel-item:last-child::after {align-self: flex-start;width: 50%;}#sk-container-id-3 div.sk-parallel-item:only-child::after {width: 0;}#sk-container-id-3 div.sk-dashed-wrapped {border: 1px dashed gray;margin: 0 0.4em 0.5em 0.4em;box-sizing: border-box;padding-bottom: 0.4em;background-color: white;}#sk-container-id-3 div.sk-label label {font-family: monospace;font-weight: bold;display: inline-block;line-height: 1.2em;}#sk-container-id-3 div.sk-label-container {text-align: center;}#sk-container-id-3 div.sk-container {/* jupyter's `normalize.less` sets `[hidden] { display: none; }` but bootstrap.min.css set `[hidden] { display: none !important; }` so we also need the `!important` here to be able to override the default hidden behavior on the sphinx rendered scikit-learn.org. See: https://github.com/scikit-learn/scikit-learn/issues/21755 */display: inline-block !important;position: relative;}#sk-container-id-3 div.sk-text-repr-fallback {display: none;}</style><div id=\"sk-container-id-3\" class=\"sk-top-container\"><div class=\"sk-text-repr-fallback\"><pre>LGBMClassifier()</pre><b>In a Jupyter environment, please rerun this cell to show the HTML representation or trust the notebook. <br />On GitHub, the HTML representation is unable to render, please try loading this page with nbviewer.org.</b></div><div class=\"sk-container\" hidden><div class=\"sk-item\"><div class=\"sk-estimator sk-toggleable\"><input class=\"sk-toggleable__control sk-hidden--visually\" id=\"sk-estimator-id-3\" type=\"checkbox\" checked><label for=\"sk-estimator-id-3\" class=\"sk-toggleable__label sk-toggleable__label-arrow\">LGBMClassifier</label><div class=\"sk-toggleable__content\"><pre>LGBMClassifier()</pre></div></div></div></div></div>"
      ],
      "text/plain": [
       "LGBMClassifier()"
      ]
     },
     "execution_count": 67,
     "metadata": {},
     "output_type": "execute_result"
    }
   ],
   "source": [
    "evals = [(X_test, y_test)]\n",
    "lgb.fit(X_train, y_train, eval_set=evals, eval_metric='logloss', verbose=True)"
   ]
  },
  {
   "cell_type": "code",
   "execution_count": 68,
   "metadata": {},
   "outputs": [
    {
     "data": {
      "text/plain": [
       "1.0"
      ]
     },
     "execution_count": 68,
     "metadata": {},
     "output_type": "execute_result"
    }
   ],
   "source": [
    "lgb.score(X_test, y_test)"
   ]
  },
  {
   "cell_type": "code",
   "execution_count": 69,
   "metadata": {},
   "outputs": [
    {
     "data": {
      "text/plain": [
       "'3.3.5'"
      ]
     },
     "execution_count": 69,
     "metadata": {},
     "output_type": "execute_result"
    }
   ],
   "source": [
    "import lightgbm\n",
    "lightgbm.__version__"
   ]
  },
  {
   "cell_type": "code",
   "execution_count": 70,
   "metadata": {},
   "outputs": [
    {
     "data": {
      "text/plain": [
       "{'boosting_type': 'gbdt',\n",
       " 'class_weight': None,\n",
       " 'colsample_bytree': 1.0,\n",
       " 'importance_type': 'split',\n",
       " 'learning_rate': 0.1,\n",
       " 'max_depth': -1,\n",
       " 'min_child_samples': 20,\n",
       " 'min_child_weight': 0.001,\n",
       " 'min_split_gain': 0.0,\n",
       " 'n_estimators': 100,\n",
       " 'n_jobs': -1,\n",
       " 'num_leaves': 31,\n",
       " 'objective': None,\n",
       " 'random_state': None,\n",
       " 'reg_alpha': 0.0,\n",
       " 'reg_lambda': 0.0,\n",
       " 'silent': 'warn',\n",
       " 'subsample': 1.0,\n",
       " 'subsample_for_bin': 200000,\n",
       " 'subsample_freq': 0}"
      ]
     },
     "execution_count": 70,
     "metadata": {},
     "output_type": "execute_result"
    }
   ],
   "source": [
    "from lightgbm import LGBMClassifier\n",
    "lgb = LGBMClassifier()\n",
    "lgb.get_params()"
   ]
  },
  {
   "cell_type": "code",
   "execution_count": 71,
   "metadata": {},
   "outputs": [
    {
     "name": "stdout",
     "output_type": "stream",
     "text": [
      "[1]\tvalid_0's multi_logloss: 0.941996\n",
      "[2]\tvalid_0's multi_logloss: 0.832568\n",
      "[3]\tvalid_0's multi_logloss: 0.747743\n",
      "[4]\tvalid_0's multi_logloss: 0.670139\n",
      "[5]\tvalid_0's multi_logloss: 0.611701\n",
      "[6]\tvalid_0's multi_logloss: 0.557255\n",
      "[7]\tvalid_0's multi_logloss: 0.5066\n",
      "[8]\tvalid_0's multi_logloss: 0.467544\n",
      "[9]\tvalid_0's multi_logloss: 0.42232\n",
      "[10]\tvalid_0's multi_logloss: 0.391928\n",
      "[11]\tvalid_0's multi_logloss: 0.354272\n",
      "[12]\tvalid_0's multi_logloss: 0.323114\n",
      "[13]\tvalid_0's multi_logloss: 0.294561\n",
      "[14]\tvalid_0's multi_logloss: 0.27047\n",
      "[15]\tvalid_0's multi_logloss: 0.248188\n",
      "[16]\tvalid_0's multi_logloss: 0.226466\n",
      "[17]\tvalid_0's multi_logloss: 0.20706\n",
      "[18]\tvalid_0's multi_logloss: 0.190334\n",
      "[19]\tvalid_0's multi_logloss: 0.177716\n",
      "[20]\tvalid_0's multi_logloss: 0.162546\n",
      "[21]\tvalid_0's multi_logloss: 0.149056\n",
      "[22]\tvalid_0's multi_logloss: 0.140279\n",
      "[23]\tvalid_0's multi_logloss: 0.128097\n",
      "[24]\tvalid_0's multi_logloss: 0.118336\n",
      "[25]\tvalid_0's multi_logloss: 0.111064\n",
      "[26]\tvalid_0's multi_logloss: 0.102929\n",
      "[27]\tvalid_0's multi_logloss: 0.0956672\n",
      "[28]\tvalid_0's multi_logloss: 0.0899258\n",
      "[29]\tvalid_0's multi_logloss: 0.0845874\n",
      "[30]\tvalid_0's multi_logloss: 0.0814826\n",
      "[31]\tvalid_0's multi_logloss: 0.0748525\n",
      "[32]\tvalid_0's multi_logloss: 0.0698538\n",
      "[33]\tvalid_0's multi_logloss: 0.0634432\n",
      "[34]\tvalid_0's multi_logloss: 0.0597643\n",
      "[35]\tvalid_0's multi_logloss: 0.0573022\n",
      "[36]\tvalid_0's multi_logloss: 0.0538179\n",
      "[37]\tvalid_0's multi_logloss: 0.0503975\n",
      "[38]\tvalid_0's multi_logloss: 0.0468743\n",
      "[39]\tvalid_0's multi_logloss: 0.0437075\n",
      "[40]\tvalid_0's multi_logloss: 0.0403751\n",
      "[41]\tvalid_0's multi_logloss: 0.0392772\n",
      "[42]\tvalid_0's multi_logloss: 0.0368259\n",
      "[43]\tvalid_0's multi_logloss: 0.0352631\n",
      "[44]\tvalid_0's multi_logloss: 0.0326785\n",
      "[45]\tvalid_0's multi_logloss: 0.0310203\n",
      "[46]\tvalid_0's multi_logloss: 0.0280426\n",
      "[47]\tvalid_0's multi_logloss: 0.0268724\n",
      "[48]\tvalid_0's multi_logloss: 0.0247712\n",
      "[49]\tvalid_0's multi_logloss: 0.024035\n",
      "[50]\tvalid_0's multi_logloss: 0.0231938\n",
      "[51]\tvalid_0's multi_logloss: 0.0218336\n",
      "[52]\tvalid_0's multi_logloss: 0.0206123\n",
      "[53]\tvalid_0's multi_logloss: 0.0191042\n",
      "[54]\tvalid_0's multi_logloss: 0.0176425\n",
      "[55]\tvalid_0's multi_logloss: 0.0174316\n",
      "[56]\tvalid_0's multi_logloss: 0.0160898\n",
      "[57]\tvalid_0's multi_logloss: 0.0167242\n",
      "[58]\tvalid_0's multi_logloss: 0.0160088\n",
      "[59]\tvalid_0's multi_logloss: 0.0147466\n",
      "[60]\tvalid_0's multi_logloss: 0.0145339\n",
      "[61]\tvalid_0's multi_logloss: 0.0138843\n",
      "[62]\tvalid_0's multi_logloss: 0.0138912\n",
      "[63]\tvalid_0's multi_logloss: 0.012952\n",
      "[64]\tvalid_0's multi_logloss: 0.0127069\n",
      "[65]\tvalid_0's multi_logloss: 0.0120973\n",
      "[66]\tvalid_0's multi_logloss: 0.01123\n",
      "[67]\tvalid_0's multi_logloss: 0.0112055\n",
      "[68]\tvalid_0's multi_logloss: 0.0109263\n",
      "[69]\tvalid_0's multi_logloss: 0.011354\n",
      "[70]\tvalid_0's multi_logloss: 0.0105797\n",
      "[71]\tvalid_0's multi_logloss: 0.0101472\n",
      "[72]\tvalid_0's multi_logloss: 0.0102768\n",
      "[73]\tvalid_0's multi_logloss: 0.0104056\n",
      "[74]\tvalid_0's multi_logloss: 0.00956546\n",
      "[75]\tvalid_0's multi_logloss: 0.00940076\n",
      "[76]\tvalid_0's multi_logloss: 0.00949343\n",
      "[77]\tvalid_0's multi_logloss: 0.00866207\n",
      "[78]\tvalid_0's multi_logloss: 0.00813147\n",
      "[79]\tvalid_0's multi_logloss: 0.00838548\n",
      "[80]\tvalid_0's multi_logloss: 0.00837767\n",
      "[81]\tvalid_0's multi_logloss: 0.00906861\n",
      "[82]\tvalid_0's multi_logloss: 0.00811408\n",
      "[83]\tvalid_0's multi_logloss: 0.00776108\n",
      "[84]\tvalid_0's multi_logloss: 0.00790332\n",
      "[85]\tvalid_0's multi_logloss: 0.007163\n",
      "[86]\tvalid_0's multi_logloss: 0.00739007\n",
      "[87]\tvalid_0's multi_logloss: 0.00722371\n",
      "[88]\tvalid_0's multi_logloss: 0.00646079\n",
      "[89]\tvalid_0's multi_logloss: 0.00605822\n",
      "[90]\tvalid_0's multi_logloss: 0.0056507\n",
      "[91]\tvalid_0's multi_logloss: 0.00541379\n",
      "[92]\tvalid_0's multi_logloss: 0.00488129\n",
      "[93]\tvalid_0's multi_logloss: 0.00504632\n",
      "[94]\tvalid_0's multi_logloss: 0.00488781\n",
      "[95]\tvalid_0's multi_logloss: 0.00524217\n",
      "[96]\tvalid_0's multi_logloss: 0.00479259\n",
      "[97]\tvalid_0's multi_logloss: 0.00447434\n",
      "[98]\tvalid_0's multi_logloss: 0.00438049\n",
      "[99]\tvalid_0's multi_logloss: 0.00434947\n",
      "[100]\tvalid_0's multi_logloss: 0.0041359\n"
     ]
    },
    {
     "name": "stderr",
     "output_type": "stream",
     "text": [
      "c:\\Users\\YONSAI\\anaconda3\\lib\\site-packages\\lightgbm\\sklearn.py:736: UserWarning: 'verbose' argument is deprecated and will be removed in a future release of LightGBM. Pass 'log_evaluation()' callback via 'callbacks' argument instead.\n",
      "  _log_warning(\"'verbose' argument is deprecated and will be removed in a future release of LightGBM. \"\n"
     ]
    },
    {
     "data": {
      "text/html": [
       "<style>#sk-container-id-4 {color: black;background-color: white;}#sk-container-id-4 pre{padding: 0;}#sk-container-id-4 div.sk-toggleable {background-color: white;}#sk-container-id-4 label.sk-toggleable__label {cursor: pointer;display: block;width: 100%;margin-bottom: 0;padding: 0.3em;box-sizing: border-box;text-align: center;}#sk-container-id-4 label.sk-toggleable__label-arrow:before {content: \"▸\";float: left;margin-right: 0.25em;color: #696969;}#sk-container-id-4 label.sk-toggleable__label-arrow:hover:before {color: black;}#sk-container-id-4 div.sk-estimator:hover label.sk-toggleable__label-arrow:before {color: black;}#sk-container-id-4 div.sk-toggleable__content {max-height: 0;max-width: 0;overflow: hidden;text-align: left;background-color: #f0f8ff;}#sk-container-id-4 div.sk-toggleable__content pre {margin: 0.2em;color: black;border-radius: 0.25em;background-color: #f0f8ff;}#sk-container-id-4 input.sk-toggleable__control:checked~div.sk-toggleable__content {max-height: 200px;max-width: 100%;overflow: auto;}#sk-container-id-4 input.sk-toggleable__control:checked~label.sk-toggleable__label-arrow:before {content: \"▾\";}#sk-container-id-4 div.sk-estimator input.sk-toggleable__control:checked~label.sk-toggleable__label {background-color: #d4ebff;}#sk-container-id-4 div.sk-label input.sk-toggleable__control:checked~label.sk-toggleable__label {background-color: #d4ebff;}#sk-container-id-4 input.sk-hidden--visually {border: 0;clip: rect(1px 1px 1px 1px);clip: rect(1px, 1px, 1px, 1px);height: 1px;margin: -1px;overflow: hidden;padding: 0;position: absolute;width: 1px;}#sk-container-id-4 div.sk-estimator {font-family: monospace;background-color: #f0f8ff;border: 1px dotted black;border-radius: 0.25em;box-sizing: border-box;margin-bottom: 0.5em;}#sk-container-id-4 div.sk-estimator:hover {background-color: #d4ebff;}#sk-container-id-4 div.sk-parallel-item::after {content: \"\";width: 100%;border-bottom: 1px solid gray;flex-grow: 1;}#sk-container-id-4 div.sk-label:hover label.sk-toggleable__label {background-color: #d4ebff;}#sk-container-id-4 div.sk-serial::before {content: \"\";position: absolute;border-left: 1px solid gray;box-sizing: border-box;top: 0;bottom: 0;left: 50%;z-index: 0;}#sk-container-id-4 div.sk-serial {display: flex;flex-direction: column;align-items: center;background-color: white;padding-right: 0.2em;padding-left: 0.2em;position: relative;}#sk-container-id-4 div.sk-item {position: relative;z-index: 1;}#sk-container-id-4 div.sk-parallel {display: flex;align-items: stretch;justify-content: center;background-color: white;position: relative;}#sk-container-id-4 div.sk-item::before, #sk-container-id-4 div.sk-parallel-item::before {content: \"\";position: absolute;border-left: 1px solid gray;box-sizing: border-box;top: 0;bottom: 0;left: 50%;z-index: -1;}#sk-container-id-4 div.sk-parallel-item {display: flex;flex-direction: column;z-index: 1;position: relative;background-color: white;}#sk-container-id-4 div.sk-parallel-item:first-child::after {align-self: flex-end;width: 50%;}#sk-container-id-4 div.sk-parallel-item:last-child::after {align-self: flex-start;width: 50%;}#sk-container-id-4 div.sk-parallel-item:only-child::after {width: 0;}#sk-container-id-4 div.sk-dashed-wrapped {border: 1px dashed gray;margin: 0 0.4em 0.5em 0.4em;box-sizing: border-box;padding-bottom: 0.4em;background-color: white;}#sk-container-id-4 div.sk-label label {font-family: monospace;font-weight: bold;display: inline-block;line-height: 1.2em;}#sk-container-id-4 div.sk-label-container {text-align: center;}#sk-container-id-4 div.sk-container {/* jupyter's `normalize.less` sets `[hidden] { display: none; }` but bootstrap.min.css set `[hidden] { display: none !important; }` so we also need the `!important` here to be able to override the default hidden behavior on the sphinx rendered scikit-learn.org. See: https://github.com/scikit-learn/scikit-learn/issues/21755 */display: inline-block !important;position: relative;}#sk-container-id-4 div.sk-text-repr-fallback {display: none;}</style><div id=\"sk-container-id-4\" class=\"sk-top-container\"><div class=\"sk-text-repr-fallback\"><pre>LGBMClassifier()</pre><b>In a Jupyter environment, please rerun this cell to show the HTML representation or trust the notebook. <br />On GitHub, the HTML representation is unable to render, please try loading this page with nbviewer.org.</b></div><div class=\"sk-container\" hidden><div class=\"sk-item\"><div class=\"sk-estimator sk-toggleable\"><input class=\"sk-toggleable__control sk-hidden--visually\" id=\"sk-estimator-id-4\" type=\"checkbox\" checked><label for=\"sk-estimator-id-4\" class=\"sk-toggleable__label sk-toggleable__label-arrow\">LGBMClassifier</label><div class=\"sk-toggleable__content\"><pre>LGBMClassifier()</pre></div></div></div></div></div>"
      ],
      "text/plain": [
       "LGBMClassifier()"
      ]
     },
     "execution_count": 71,
     "metadata": {},
     "output_type": "execute_result"
    }
   ],
   "source": [
    "evals = [(X_test, y_test)]\n",
    "lgb.fit(X_train, y_train, eval_set=evals, eval_metric='logloss', verbose=True)"
   ]
  },
  {
   "cell_type": "code",
   "execution_count": 72,
   "metadata": {},
   "outputs": [
    {
     "data": {
      "text/plain": [
       "1.0"
      ]
     },
     "execution_count": 72,
     "metadata": {},
     "output_type": "execute_result"
    }
   ],
   "source": [
    "lgb.score(X_test, y_test)"
   ]
  },
  {
   "cell_type": "markdown",
   "metadata": {},
   "source": [
    "- 시각화"
   ]
  },
  {
   "cell_type": "code",
   "execution_count": 73,
   "metadata": {},
   "outputs": [],
   "source": [
    "from lightgbm import plot_metric, plot_importance\n",
    "import matplotlib.pyplot as plt"
   ]
  },
  {
   "cell_type": "code",
   "execution_count": 74,
   "metadata": {},
   "outputs": [
    {
     "data": {
      "image/png": "[encoded data removed]",
      "text/plain": [
       "<Figure size 640x480 with 1 Axes>"
      ]
     },
     "metadata": {},
     "output_type": "display_data"
    }
   ],
   "source": [
    "plot_metric(lgb);"
   ]
  },
  {
   "cell_type": "code",
   "execution_count": 75,
   "metadata": {},
   "outputs": [
    {
     "data": {
      "image/png": "[encoded data removed]",
      "text/plain": [
       "<Figure size 640x480 with 1 Axes>"
      ]
     },
     "metadata": {},
     "output_type": "display_data"
    }
   ],
   "source": [
    "plot_importance(lgb);"
   ]
  },
  {
   "cell_type": "code",
   "execution_count": null,
   "metadata": {},
   "outputs": [],
   "source": []
  }
 ],
 "metadata": {
  "kernelspec": {
   "display_name": "base",
   "language": "python",
   "name": "python3"
  },
  "language_info": {
   "codemirror_mode": {
    "name": "ipython",
    "version": 3
   },
   "file_extension": ".py",
   "mimetype": "text/x-python",
   "name": "python",
   "nbconvert_exporter": "python",
   "pygments_lexer": "ipython3",
   "version": "3.10.10"
  },
  "orig_nbformat": 4
 },
 "nbformat": 4,
 "nbformat_minor": 2
}
